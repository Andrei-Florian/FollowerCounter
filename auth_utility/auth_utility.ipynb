{
 "cells": [
  {
   "cell_type": "markdown",
   "metadata": {},
   "source": [
    "### Install Dependencies\n",
    "Before executing other code cells, ensure to install the notebook's required dependencies by running the code cell below. A single library, `requests`, is needed to handle HTTP requests."
   ]
  },
  {
   "cell_type": "code",
   "execution_count": null,
   "metadata": {},
   "outputs": [],
   "source": [
    "%pip install requests"
   ]
  },
  {
   "cell_type": "markdown",
   "metadata": {},
   "source": [
    "### Authorisation URL Link\n",
    "The code cell below prints the authorisation link to be accessed in order to sign into your TikTok account and grant the application access to your follower count. When you access the link below, you will be requested to sign into your TikTok account and grant the application the required permissions. You will then be redirected to my GitHub page. **Note that the access code will be provided as a query string in the URL**.\n",
    "\n",
    "- `client_key`: change this variable to the client key obtained from your TikTok application"
   ]
  },
  {
   "cell_type": "code",
   "execution_count": null,
   "metadata": {},
   "outputs": [],
   "source": [
    "client_key = ''\n",
    "\n",
    "print('Authorisation URL: https://www.tiktok.com/v2/auth/authorize?client_key=' + client_key + '&response_type=code&scope=user.info.stats&redirect_uri=https://github.com/Andrei-Florian')"
   ]
  },
  {
   "cell_type": "markdown",
   "metadata": {},
   "source": [
    "### Request Refresh Token\n",
    "The code cell below sends an API request to the TikTok API backend to request a refresh token. This is the token used in the Arduino application. The refresh token will be printed as output by the code block.\n",
    "\n",
    "- `client_secret`: the client secret obtained from your TikTok application\n",
    "\n",
    "- `code`: change this variable to access code retrieved in the previous step"
   ]
  },
  {
   "cell_type": "code",
   "execution_count": null,
   "metadata": {},
   "outputs": [],
   "source": [
    "client_secret = ''\n",
    "code = ''\n",
    "\n",
    "import requests\n",
    "\n",
    "url = 'https://open.tiktokapis.com/v2/oauth/token/'\n",
    "body = {\n",
    "    'client_key': client_key,\n",
    "    'client_secret': client_secret,\n",
    "    'grant_type': 'authorization_code',\n",
    "    'code': code,\n",
    "    'redirect_uri': 'https://github.com/Andrei-Florian'\n",
    "}\n",
    "headers = {\n",
    "    'Content-Type': 'application/x-www-form-urlencoded'\n",
    "}\n",
    "\n",
    "response = requests.post(url, data=body, headers=headers)\n",
    "data = response.json()\n",
    "print(data.get('access_token'))"
   ]
  }
 ],
 "metadata": {
  "kernelspec": {
   "display_name": "Python 3",
   "language": "python",
   "name": "python3"
  },
  "language_info": {
   "codemirror_mode": {
    "name": "ipython",
    "version": 3
   },
   "file_extension": ".py",
   "mimetype": "text/x-python",
   "name": "python",
   "nbconvert_exporter": "python",
   "pygments_lexer": "ipython3",
   "version": "3.10.14"
  }
 },
 "nbformat": 4,
 "nbformat_minor": 2
}
